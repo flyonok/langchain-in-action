{
 "cells": [
  {
   "cell_type": "markdown",
   "id": "cbe8c769-b127-4a24-8c9f-aa8e979bfeb1",
   "metadata": {},
   "source": [
    "# Observability\n",
    "\n",
    "This notebook shows off different levels of LangChain observability. For more information, see:\n",
    "\n",
    "- [LangChain Debugging Guide](https://python.langchain.com/docs/guides/debugging)\n",
    "\n",
    "- [LangSmith](https://smith.langchain.com/)"
   ]
  },
  {
   "cell_type": "markdown",
   "id": "065a5d5b",
   "metadata": {},
   "source": [
    "## No Logging"
   ]
  },
  {
   "cell_type": "code",
   "execution_count": 2,
   "id": "7fd2faed",
   "metadata": {},
   "outputs": [],
   "source": [
    "from langchain_community.tools.tavily_search import TavilySearchResults\n",
    "from langchain_openai import ChatOpenAI\n",
    "from langchain import hub\n",
    "from langchain.agents import create_openai_functions_agent\n",
    "from langchain.agents import AgentExecutor\n",
    "import os\n",
    "os.environ['TAVILY_API_KEY'] = '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'\n",
    "\n",
    "# Get the prompt to use - you can modify this!\n",
    "prompt = hub.pull(\"hwchase17/openai-functions-agent\")\n",
    "llm = ChatOpenAI(model=\"gpt-3.5-turbo\", temperature=0)\n",
    "search = TavilySearchResults()\n",
    "tools = [search]\n",
    "agent = create_openai_functions_agent(llm, tools, prompt)\n",
    "agent_executor = AgentExecutor(agent=agent, tools=tools)"
   ]
  },
  {
   "cell_type": "code",
   "execution_count": 3,
   "id": "eed69cda",
   "metadata": {},
   "outputs": [
    {
     "data": {
      "text/plain": [
       "{'input': 'what is the weather in sf?',\n",
       " 'output': 'The current weather in San Francisco is partly cloudy with a temperature of 57.1°F (14.0°C). The wind speed is 5.8 mph (9.4 kph) coming from the west-northwest direction. The humidity is at 88%, and there is no precipitation at the moment.'}"
      ]
     },
     "execution_count": 3,
     "metadata": {},
     "output_type": "execute_result"
    }
   ],
   "source": [
    "agent_executor.invoke({\"input\": \"what is the weather in sf?\"})"
   ]
  },
  {
   "cell_type": "markdown",
   "id": "e9ee9b28",
   "metadata": {},
   "source": [
    "## `verbose=True`"
   ]
  },
  {
   "cell_type": "code",
   "execution_count": 4,
   "id": "c47044da",
   "metadata": {},
   "outputs": [],
   "source": [
    "from langchain.globals import set_verbose\n",
    "\n",
    "set_verbose(True)\n",
    "\n",
    "prompt = hub.pull(\"hwchase17/openai-functions-agent\")\n",
    "llm = ChatOpenAI(model=\"gpt-3.5-turbo\", temperature=0)\n",
    "search = TavilySearchResults()\n",
    "tools = [search]\n",
    "agent = create_openai_functions_agent(llm, tools, prompt)\n",
    "agent_executor = AgentExecutor(agent=agent, tools=tools)"
   ]
  },
  {
   "cell_type": "code",
   "execution_count": 5,
   "id": "e0377506",
   "metadata": {},
   "outputs": [
    {
     "name": "stdout",
     "output_type": "stream",
     "text": [
      "\n",
      "\n",
      "\u001b[1m> Entering new AgentExecutor chain...\u001b[0m\n",
      "\u001b[32;1m\u001b[1;3m\n",
      "Invoking: `tavily_search_results_json` with `{'query': 'weather in San Francisco'}`\n",
      "\n",
      "\n",
      "\u001b[0m\u001b[36;1m\u001b[1;3m[{'url': 'https://www.weatherapi.com/', 'content': \"{'location': {'name': 'San Francisco', 'region': 'California', 'country': 'United States of America', 'lat': 37.78, 'lon': -122.42, 'tz_id': 'America/Los_Angeles', 'localtime_epoch': 1721226020, 'localtime': '2024-07-17 7:20'}, 'current': {'last_updated_epoch': 1721225700, 'last_updated': '2024-07-17 07:15', 'temp_c': 14.0, 'temp_f': 57.1, 'is_day': 1, 'condition': {'text': 'Partly Cloudy', 'icon': '//cdn.weatherapi.com/weather/64x64/day/116.png', 'code': 1003}, 'wind_mph': 5.8, 'wind_kph': 9.4, 'wind_degree': 285, 'wind_dir': 'WNW', 'pressure_mb': 1017.0, 'pressure_in': 30.03, 'precip_mm': 0.0, 'precip_in': 0.0, 'humidity': 88, 'cloud': 30, 'feelslike_c': 13.4, 'feelslike_f': 56.2, 'windchill_c': 13.4, 'windchill_f': 56.2, 'heatindex_c': 14.0, 'heatindex_f': 57.1, 'dewpoint_c': 11.6, 'dewpoint_f': 52.9, 'vis_km': 10.0, 'vis_miles': 6.0, 'uv': 4.0, 'gust_mph': 8.4, 'gust_kph': 13.6}}\"}, {'url': 'https://www.wunderground.com/hourly/us/ca/san-francisco/94104/date/2024-7-17', 'content': 'San Francisco Weather Forecasts. Weather Underground provides local & long-range weather forecasts, weatherreports, maps & tropical weather conditions for the San Francisco area. ... San Francisco ...'}, {'url': 'https://www.weathertab.com/en/c/e/07/united-states/california/san-francisco/', 'content': 'Temperature Forecast Normal. Avg High Temps 60 to 70 °F. Avg Low Temps 45 to 60 °F. Explore comprehensive July 2024 weather forecasts for San Francisco, including daily high and low temperatures, precipitation risks, and monthly temperature trends. Featuring detailed day-by-day forecasts, dynamic graphs of daily rain probabilities, and ...'}, {'url': 'https://www.accuweather.com/en/us/san-francisco/94103/july-weather/347629', 'content': 'Get the monthly weather forecast for San Francisco, CA, including daily high/low, historical averages, to help you plan ahead.'}, {'url': 'https://www.almanac.com/weather/longrange/CA/San Francisco', 'content': 'November 2023 to October 2024. Winter will be cooler and wetter than normal, with above-normal mountain snows. The coldest temperatures will occur in early and late November, early and late December, and late January. The stormiest periods will be in early and late January, early to mid-February, and mid-March.'}]\u001b[0m\u001b[32;1m\u001b[1;3mThe current weather in San Francisco is partly cloudy with a temperature of 57.1°F (14.0°C). The wind speed is 5.8 mph (9.4 kph) coming from the west-northwest direction. The humidity is at 88%, and the visibility is 6.0 miles.\u001b[0m\n",
      "\n",
      "\u001b[1m> Finished chain.\u001b[0m\n"
     ]
    },
    {
     "data": {
      "text/plain": [
       "{'input': 'what is the weather in sf?',\n",
       " 'output': 'The current weather in San Francisco is partly cloudy with a temperature of 57.1°F (14.0°C). The wind speed is 5.8 mph (9.4 kph) coming from the west-northwest direction. The humidity is at 88%, and the visibility is 6.0 miles.'}"
      ]
     },
     "execution_count": 5,
     "metadata": {},
     "output_type": "execute_result"
    }
   ],
   "source": [
    "agent_executor.invoke({\"input\": \"what is the weather in sf?\"})"
   ]
  },
  {
   "cell_type": "markdown",
   "id": "0014dd98",
   "metadata": {},
   "source": [
    "## `debug=True`"
   ]
  },
  {
   "cell_type": "code",
   "execution_count": 6,
   "id": "7f2295f9",
   "metadata": {},
   "outputs": [],
   "source": [
    "from langchain.globals import set_debug\n",
    "\n",
    "set_verbose(False)\n",
    "set_debug(True)\n",
    "\n",
    "prompt = hub.pull(\"hwchase17/openai-functions-agent\")\n",
    "llm = ChatOpenAI(model=\"gpt-3.5-turbo\", temperature=0)\n",
    "search = TavilySearchResults()\n",
    "tools = [search]\n",
    "agent = create_openai_functions_agent(llm, tools, prompt)\n",
    "agent_executor = AgentExecutor(agent=agent, tools=tools)"
   ]
  },
  {
   "cell_type": "code",
   "execution_count": 7,
   "id": "66acc1e1",
   "metadata": {},
   "outputs": [
    {
     "name": "stdout",
     "output_type": "stream",
     "text": [
      "\u001b[32;1m\u001b[1;3m[chain/start]\u001b[0m \u001b[1m[chain:AgentExecutor] Entering Chain run with input:\n",
      "\u001b[0m{\n",
      "  \"input\": \"what is the weather in sf?\"\n",
      "}\n",
      "\u001b[32;1m\u001b[1;3m[chain/start]\u001b[0m \u001b[1m[chain:AgentExecutor > chain:RunnableSequence] Entering Chain run with input:\n",
      "\u001b[0m{\n",
      "  \"input\": \"\"\n",
      "}\n",
      "\u001b[32;1m\u001b[1;3m[chain/start]\u001b[0m \u001b[1m[chain:AgentExecutor > chain:RunnableSequence > chain:RunnableAssign<agent_scratchpad>] Entering Chain run with input:\n",
      "\u001b[0m{\n",
      "  \"input\": \"\"\n",
      "}\n",
      "\u001b[32;1m\u001b[1;3m[chain/start]\u001b[0m \u001b[1m[chain:AgentExecutor > chain:RunnableSequence > chain:RunnableAssign<agent_scratchpad> > chain:RunnableParallel<agent_scratchpad>] Entering Chain run with input:\n",
      "\u001b[0m{\n",
      "  \"input\": \"\"\n",
      "}\n",
      "\u001b[32;1m\u001b[1;3m[chain/start]\u001b[0m \u001b[1m[chain:AgentExecutor > chain:RunnableSequence > chain:RunnableAssign<agent_scratchpad> > chain:RunnableParallel<agent_scratchpad> > chain:RunnableLambda] Entering Chain run with input:\n",
      "\u001b[0m{\n",
      "  \"input\": \"\"\n",
      "}\n",
      "\u001b[36;1m\u001b[1;3m[chain/end]\u001b[0m \u001b[1m[chain:AgentExecutor > chain:RunnableSequence > chain:RunnableAssign<agent_scratchpad> > chain:RunnableParallel<agent_scratchpad> > chain:RunnableLambda] [0ms] Exiting Chain run with output:\n",
      "\u001b[0m{\n",
      "  \"output\": []\n",
      "}\n",
      "\u001b[36;1m\u001b[1;3m[chain/end]\u001b[0m \u001b[1m[chain:AgentExecutor > chain:RunnableSequence > chain:RunnableAssign<agent_scratchpad> > chain:RunnableParallel<agent_scratchpad>] [1ms] Exiting Chain run with output:\n",
      "\u001b[0m{\n",
      "  \"agent_scratchpad\": []\n",
      "}\n",
      "\u001b[36;1m\u001b[1;3m[chain/end]\u001b[0m \u001b[1m[chain:AgentExecutor > chain:RunnableSequence > chain:RunnableAssign<agent_scratchpad>] [4ms] Exiting Chain run with output:\n",
      "\u001b[0m{\n",
      "  \"input\": \"what is the weather in sf?\",\n",
      "  \"intermediate_steps\": [],\n",
      "  \"agent_scratchpad\": []\n",
      "}\n",
      "\u001b[32;1m\u001b[1;3m[chain/start]\u001b[0m \u001b[1m[chain:AgentExecutor > chain:RunnableSequence > prompt:ChatPromptTemplate] Entering Prompt run with input:\n",
      "\u001b[0m{\n",
      "  \"input\": \"what is the weather in sf?\",\n",
      "  \"intermediate_steps\": [],\n",
      "  \"agent_scratchpad\": []\n",
      "}\n",
      "\u001b[36;1m\u001b[1;3m[chain/end]\u001b[0m \u001b[1m[chain:AgentExecutor > chain:RunnableSequence > prompt:ChatPromptTemplate] [0ms] Exiting Prompt run with output:\n",
      "\u001b[0m[outputs]\n",
      "\u001b[32;1m\u001b[1;3m[llm/start]\u001b[0m \u001b[1m[chain:AgentExecutor > chain:RunnableSequence > llm:ChatOpenAI] Entering LLM run with input:\n",
      "\u001b[0m{\n",
      "  \"prompts\": [\n",
      "    \"System: You are a helpful assistant\\nHuman: what is the weather in sf?\"\n",
      "  ]\n",
      "}\n",
      "\u001b[36;1m\u001b[1;3m[llm/end]\u001b[0m \u001b[1m[chain:AgentExecutor > chain:RunnableSequence > llm:ChatOpenAI] [1.59s] Exiting LLM run with output:\n",
      "\u001b[0m{\n",
      "  \"generations\": [\n",
      "    [\n",
      "      {\n",
      "        \"text\": \"\",\n",
      "        \"generation_info\": {\n",
      "          \"finish_reason\": \"function_call\"\n",
      "        },\n",
      "        \"type\": \"ChatGenerationChunk\",\n",
      "        \"message\": {\n",
      "          \"lc\": 1,\n",
      "          \"type\": \"constructor\",\n",
      "          \"id\": [\n",
      "            \"langchain\",\n",
      "            \"schema\",\n",
      "            \"messages\",\n",
      "            \"AIMessageChunk\"\n",
      "          ],\n",
      "          \"kwargs\": {\n",
      "            \"content\": \"\",\n",
      "            \"additional_kwargs\": {\n",
      "              \"function_call\": {\n",
      "                \"arguments\": \"{\\\"query\\\":\\\"weather in San Francisco\\\"}\",\n",
      "                \"name\": \"tavily_search_results_json\"\n",
      "              }\n",
      "            },\n",
      "            \"response_metadata\": {\n",
      "              \"finish_reason\": \"function_call\"\n",
      "            },\n",
      "            \"type\": \"AIMessageChunk\",\n",
      "            \"id\": \"run-eb44da80-b015-4243-b989-eade8b232bc1\",\n",
      "            \"tool_calls\": [],\n",
      "            \"invalid_tool_calls\": []\n",
      "          }\n",
      "        }\n",
      "      }\n",
      "    ]\n",
      "  ],\n",
      "  \"llm_output\": null,\n",
      "  \"run\": null\n",
      "}\n",
      "\u001b[32;1m\u001b[1;3m[chain/start]\u001b[0m \u001b[1m[chain:AgentExecutor > chain:RunnableSequence > parser:OpenAIFunctionsAgentOutputParser] Entering Parser run with input:\n",
      "\u001b[0m[inputs]\n",
      "\u001b[36;1m\u001b[1;3m[chain/end]\u001b[0m \u001b[1m[chain:AgentExecutor > chain:RunnableSequence > parser:OpenAIFunctionsAgentOutputParser] [0ms] Exiting Parser run with output:\n",
      "\u001b[0m[outputs]\n",
      "\u001b[36;1m\u001b[1;3m[chain/end]\u001b[0m \u001b[1m[chain:AgentExecutor > chain:RunnableSequence] [1.59s] Exiting Chain run with output:\n",
      "\u001b[0m[outputs]\n",
      "\u001b[32;1m\u001b[1;3m[tool/start]\u001b[0m \u001b[1m[chain:AgentExecutor > tool:tavily_search_results_json] Entering Tool run with input:\n",
      "\u001b[0m\"{'query': 'weather in San Francisco'}\"\n"
     ]
    },
    {
     "name": "stderr",
     "output_type": "stream",
     "text": [
      "Error in ConsoleCallbackHandler.on_tool_end callback: AttributeError(\"'list' object has no attribute 'strip'\")\n"
     ]
    },
    {
     "name": "stdout",
     "output_type": "stream",
     "text": [
      "\u001b[32;1m\u001b[1;3m[chain/start]\u001b[0m \u001b[1m[chain:AgentExecutor > chain:RunnableSequence] Entering Chain run with input:\n",
      "\u001b[0m{\n",
      "  \"input\": \"\"\n",
      "}\n",
      "\u001b[32;1m\u001b[1;3m[chain/start]\u001b[0m \u001b[1m[chain:AgentExecutor > chain:RunnableSequence > chain:RunnableAssign<agent_scratchpad>] Entering Chain run with input:\n",
      "\u001b[0m{\n",
      "  \"input\": \"\"\n",
      "}\n",
      "\u001b[32;1m\u001b[1;3m[chain/start]\u001b[0m \u001b[1m[chain:AgentExecutor > chain:RunnableSequence > chain:RunnableAssign<agent_scratchpad> > chain:RunnableParallel<agent_scratchpad>] Entering Chain run with input:\n",
      "\u001b[0m{\n",
      "  \"input\": \"\"\n",
      "}\n",
      "\u001b[32;1m\u001b[1;3m[chain/start]\u001b[0m \u001b[1m[chain:AgentExecutor > chain:RunnableSequence > chain:RunnableAssign<agent_scratchpad> > chain:RunnableParallel<agent_scratchpad> > chain:RunnableLambda] Entering Chain run with input:\n",
      "\u001b[0m{\n",
      "  \"input\": \"\"\n",
      "}\n",
      "\u001b[36;1m\u001b[1;3m[chain/end]\u001b[0m \u001b[1m[chain:AgentExecutor > chain:RunnableSequence > chain:RunnableAssign<agent_scratchpad> > chain:RunnableParallel<agent_scratchpad> > chain:RunnableLambda] [1ms] Exiting Chain run with output:\n",
      "\u001b[0m[outputs]\n",
      "\u001b[36;1m\u001b[1;3m[chain/end]\u001b[0m \u001b[1m[chain:AgentExecutor > chain:RunnableSequence > chain:RunnableAssign<agent_scratchpad> > chain:RunnableParallel<agent_scratchpad>] [1ms] Exiting Chain run with output:\n",
      "\u001b[0m[outputs]\n",
      "\u001b[36;1m\u001b[1;3m[chain/end]\u001b[0m \u001b[1m[chain:AgentExecutor > chain:RunnableSequence > chain:RunnableAssign<agent_scratchpad>] [3ms] Exiting Chain run with output:\n",
      "\u001b[0m[outputs]\n",
      "\u001b[32;1m\u001b[1;3m[chain/start]\u001b[0m \u001b[1m[chain:AgentExecutor > chain:RunnableSequence > prompt:ChatPromptTemplate] Entering Prompt run with input:\n",
      "\u001b[0m[inputs]\n",
      "\u001b[36;1m\u001b[1;3m[chain/end]\u001b[0m \u001b[1m[chain:AgentExecutor > chain:RunnableSequence > prompt:ChatPromptTemplate] [0ms] Exiting Prompt run with output:\n",
      "\u001b[0m[outputs]\n",
      "\u001b[32;1m\u001b[1;3m[llm/start]\u001b[0m \u001b[1m[chain:AgentExecutor > chain:RunnableSequence > llm:ChatOpenAI] Entering LLM run with input:\n",
      "\u001b[0m{\n",
      "  \"prompts\": [\n",
      "    \"System: You are a helpful assistant\\nHuman: what is the weather in sf?\\nAI: {'arguments': '{\\\"query\\\":\\\"weather in San Francisco\\\"}', 'name': 'tavily_search_results_json'}\\nFunction: [{\\\"url\\\": \\\"https://www.weatherapi.com/\\\", \\\"content\\\": \\\"{'location': {'name': 'San Francisco', 'region': 'California', 'country': 'United States of America', 'lat': 37.78, 'lon': -122.42, 'tz_id': 'America/Los_Angeles', 'localtime_epoch': 1721226020, 'localtime': '2024-07-17 7:20'}, 'current': {'last_updated_epoch': 1721225700, 'last_updated': '2024-07-17 07:15', 'temp_c': 14.0, 'temp_f': 57.1, 'is_day': 1, 'condition': {'text': 'Partly Cloudy', 'icon': '//cdn.weatherapi.com/weather/64x64/day/116.png', 'code': 1003}, 'wind_mph': 5.8, 'wind_kph': 9.4, 'wind_degree': 285, 'wind_dir': 'WNW', 'pressure_mb': 1017.0, 'pressure_in': 30.03, 'precip_mm': 0.0, 'precip_in': 0.0, 'humidity': 88, 'cloud': 30, 'feelslike_c': 13.4, 'feelslike_f': 56.2, 'windchill_c': 13.4, 'windchill_f': 56.2, 'heatindex_c': 14.0, 'heatindex_f': 57.1, 'dewpoint_c': 11.6, 'dewpoint_f': 52.9, 'vis_km': 10.0, 'vis_miles': 6.0, 'uv': 4.0, 'gust_mph': 8.4, 'gust_kph': 13.6}}\\\"}, {\\\"url\\\": \\\"https://www.msn.com/en-us/weather/topstories/july-17-2024-san-francisco-bay-area-weather-forecast/vi-BB1q966V\\\", \\\"content\\\": \\\"July 17, 2024 San Francisco Bay Area weather forecast. Posted: July 17, 2024 | Last updated: July 17, 2024 ...\\\"}, {\\\"url\\\": \\\"https://www.timeanddate.com/weather/usa/san-francisco/historic?month=\\\", \\\"content\\\": \\\"San Francisco Weather History for the Previous 24 Hours Show weather for: Previous 24 hours July 11, 2024 July 10, 2024 July 9, 2024 July 8, 2024 July 7, 2024 July 6, 2024 July 5, 2024 July 4, 2024 July 3, 2024 July 2, 2024 July 1, 2024 June 30, 2024 June 29, 2024 June 28, 2024 June 27, 2024 June 26, 2024\\\"}, {\\\"url\\\": \\\"https://weatherspark.com/h/y/557/2024/Historical-Weather-during-2024-in-San-Francisco-California-United-States\\\", \\\"content\\\": \\\"San Francisco Temperature History 2024\\\\nHourly Temperature in 2024 in San Francisco\\\\nCompare San Francisco to another city:\\\\nCloud Cover in 2024 in San Francisco\\\\nDaily Precipitation in 2024 in San Francisco\\\\nObserved Weather in 2024 in San Francisco\\\\nHours of Daylight and Twilight in 2024 in San Francisco\\\\nSunrise & Sunset with Twilight and Daylight Saving Time in 2024 in San Francisco\\\\nSolar Elevation and Azimuth in 2024 in San Francisco\\\\nMoon Rise, Set & Phases in 2024 in San Francisco\\\\nHumidity Comfort Levels in 2024 in San Francisco\\\\nWind Speed in 2024 in San Francisco\\\\nHourly Wind Speed in 2024 in San Francisco\\\\nHourly Wind Direction in 2024 in San Francisco\\\\nAtmospheric Pressure in 2024 in San Francisco\\\\nData Sources\\\\n See all nearby weather stations\\\\nLatest Report — 3:56 PM\\\\nWed, Jan 24, 2024    13 min ago    UTC 23:56\\\\nCall Sign KSFO\\\\nTemp.\\\\n60.1°F\\\\nPrecipitation\\\\nNo Report\\\\nWind\\\\n6.9 mph\\\\nCloud Cover\\\\nMostly Cloudy\\\\n1,800 ft\\\\nRaw: KSFO 242356Z 18006G19KT 10SM FEW015 BKN018 BKN039 16/12 A3004 RMK AO2 SLP171 T01560122 10156 20122 55001\\\\n While having the tremendous advantages of temporal and spatial completeness, these reconstructions: (1) are based on computer models that may have model-based errors, (2) are coarsely sampled on a 50 km grid and are therefore unable to reconstruct the local variations of many microclimates, and (3) have particular difficulty with the weather in some coastal areas, especially small islands.\\\\n We further caution that our travel scores are only as good as the data that underpin them, that weather conditions at any given location and time are unpredictable and variable, and that the definition of the scores reflects a particular set of preferences that may not agree with those of any particular reader.\\\\n 2024 Weather History in San Francisco California, United States\\\\nThe data for this report comes from the San Francisco International Airport.\\\"}, {\\\"url\\\": \\\"https://www.timeanddate.com/weather/usa/san-francisco/ext\\\", \\\"content\\\": \\\"San Francisco 14 Day Extended Forecast. Weather Today Weather Hourly 14 Day Forecast Yesterday/Past Weather Climate (Averages) Currently: 66 °F. Passing clouds. (Weather station: San Francisco International Airport, USA). See more current weather.\\\"}]\"\n",
      "  ]\n",
      "}\n",
      "\u001b[36;1m\u001b[1;3m[llm/end]\u001b[0m \u001b[1m[chain:AgentExecutor > chain:RunnableSequence > llm:ChatOpenAI] [1.99s] Exiting LLM run with output:\n",
      "\u001b[0m{\n",
      "  \"generations\": [\n",
      "    [\n",
      "      {\n",
      "        \"text\": \"The current weather in San Francisco is partly cloudy with a temperature of 57.1°F (14.0°C). The wind speed is 5.8 mph (9.4 kph) coming from the west-northwest direction. The humidity is at 88% with a visibility of 6.0 miles.\",\n",
      "        \"generation_info\": {\n",
      "          \"finish_reason\": \"stop\"\n",
      "        },\n",
      "        \"type\": \"ChatGenerationChunk\",\n",
      "        \"message\": {\n",
      "          \"lc\": 1,\n",
      "          \"type\": \"constructor\",\n",
      "          \"id\": [\n",
      "            \"langchain\",\n",
      "            \"schema\",\n",
      "            \"messages\",\n",
      "            \"AIMessageChunk\"\n",
      "          ],\n",
      "          \"kwargs\": {\n",
      "            \"content\": \"The current weather in San Francisco is partly cloudy with a temperature of 57.1°F (14.0°C). The wind speed is 5.8 mph (9.4 kph) coming from the west-northwest direction. The humidity is at 88% with a visibility of 6.0 miles.\",\n",
      "            \"response_metadata\": {\n",
      "              \"finish_reason\": \"stop\"\n",
      "            },\n",
      "            \"type\": \"AIMessageChunk\",\n",
      "            \"id\": \"run-2ac0edc7-1683-48cc-b444-9dcfca090ec4\",\n",
      "            \"tool_calls\": [],\n",
      "            \"invalid_tool_calls\": []\n",
      "          }\n",
      "        }\n",
      "      }\n",
      "    ]\n",
      "  ],\n",
      "  \"llm_output\": null,\n",
      "  \"run\": null\n",
      "}\n",
      "\u001b[32;1m\u001b[1;3m[chain/start]\u001b[0m \u001b[1m[chain:AgentExecutor > chain:RunnableSequence > parser:OpenAIFunctionsAgentOutputParser] Entering Parser run with input:\n",
      "\u001b[0m[inputs]\n",
      "\u001b[36;1m\u001b[1;3m[chain/end]\u001b[0m \u001b[1m[chain:AgentExecutor > chain:RunnableSequence > parser:OpenAIFunctionsAgentOutputParser] [1ms] Exiting Parser run with output:\n",
      "\u001b[0m[outputs]\n",
      "\u001b[36;1m\u001b[1;3m[chain/end]\u001b[0m \u001b[1m[chain:AgentExecutor > chain:RunnableSequence] [1.99s] Exiting Chain run with output:\n",
      "\u001b[0m[outputs]\n",
      "\u001b[36;1m\u001b[1;3m[chain/end]\u001b[0m \u001b[1m[chain:AgentExecutor] [16.61s] Exiting Chain run with output:\n",
      "\u001b[0m{\n",
      "  \"output\": \"The current weather in San Francisco is partly cloudy with a temperature of 57.1°F (14.0°C). The wind speed is 5.8 mph (9.4 kph) coming from the west-northwest direction. The humidity is at 88% with a visibility of 6.0 miles.\"\n",
      "}\n"
     ]
    },
    {
     "data": {
      "text/plain": [
       "{'input': 'what is the weather in sf?',\n",
       " 'output': 'The current weather in San Francisco is partly cloudy with a temperature of 57.1°F (14.0°C). The wind speed is 5.8 mph (9.4 kph) coming from the west-northwest direction. The humidity is at 88% with a visibility of 6.0 miles.'}"
      ]
     },
     "execution_count": 7,
     "metadata": {},
     "output_type": "execute_result"
    }
   ],
   "source": [
    "agent_executor.invoke({\"input\": \"what is the weather in sf?\"})"
   ]
  },
  {
   "cell_type": "markdown",
   "id": "30270f35",
   "metadata": {},
   "source": [
    "## LangSmith"
   ]
  },
  {
   "cell_type": "code",
   "execution_count": null,
   "id": "297ea8e8",
   "metadata": {},
   "outputs": [],
   "source": [
    "import os\n",
    "import getpass\n",
    "\n",
    "os.environ[\"LANGCHAIN_TRACING_V2\"]=\"true\"\n",
    "os.environ[\"LANGCHAIN_ENDPOINT\"]=\"https://api.smith.langchain.com\"\n",
    "os.environ[\"LANGCHAIN_API_KEY\"] = getpass.getpass()"
   ]
  },
  {
   "cell_type": "code",
   "execution_count": null,
   "id": "35ba1fa4",
   "metadata": {},
   "outputs": [],
   "source": [
    "set_debug(False)\n",
    "\n",
    "agent_executor.invoke({\"input\": \"what is the weather in sf?\"})"
   ]
  },
  {
   "cell_type": "code",
   "execution_count": null,
   "id": "bbf926a5",
   "metadata": {},
   "outputs": [],
   "source": []
  }
 ],
 "metadata": {
  "kernelspec": {
   "display_name": "Python 3 (ipykernel)",
   "language": "python",
   "name": "python3"
  },
  "language_info": {
   "codemirror_mode": {
    "name": "ipython",
    "version": 3
   },
   "file_extension": ".py",
   "mimetype": "text/x-python",
   "name": "python",
   "nbconvert_exporter": "python",
   "pygments_lexer": "ipython3",
   "version": "3.10.14"
  }
 },
 "nbformat": 4,
 "nbformat_minor": 5
}
